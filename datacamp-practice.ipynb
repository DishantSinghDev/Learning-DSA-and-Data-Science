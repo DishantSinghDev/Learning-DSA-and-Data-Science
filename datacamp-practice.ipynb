{
 "cells": [
  {
   "cell_type": "code",
   "execution_count": 1,
   "id": "31b70d9f",
   "metadata": {
    "_cell_guid": "b1076dfc-b9ad-4769-8c92-a6c4dae69d19",
    "_uuid": "8f2839f25d086af736a60e9eeb907d3b93b6e0e5",
    "execution": {
     "iopub.execute_input": "2023-08-09T16:33:57.598794Z",
     "iopub.status.busy": "2023-08-09T16:33:57.598250Z",
     "iopub.status.idle": "2023-08-09T16:33:57.612454Z",
     "shell.execute_reply": "2023-08-09T16:33:57.611593Z"
    },
    "papermill": {
     "duration": 0.022413,
     "end_time": "2023-08-09T16:33:57.614945",
     "exception": false,
     "start_time": "2023-08-09T16:33:57.592532",
     "status": "completed"
    },
    "tags": []
   },
   "outputs": [],
   "source": [
    "import numpy as np\n",
    "import matplotlib.pyplot as plt\n",
    "import pandas as pd"
   ]
  },
  {
   "cell_type": "code",
   "execution_count": 2,
   "id": "5a8bfb7c",
   "metadata": {
    "execution": {
     "iopub.execute_input": "2023-08-09T16:33:57.623251Z",
     "iopub.status.busy": "2023-08-09T16:33:57.622848Z",
     "iopub.status.idle": "2023-08-09T16:33:57.653925Z",
     "shell.execute_reply": "2023-08-09T16:33:57.652733Z"
    },
    "papermill": {
     "duration": 0.038389,
     "end_time": "2023-08-09T16:33:57.656790",
     "exception": false,
     "start_time": "2023-08-09T16:33:57.618401",
     "status": "completed"
    },
    "tags": []
   },
   "outputs": [],
   "source": [
    "df = pd.read_csv('../input/countries-of-the-world/countries of the world.csv')"
   ]
  },
  {
   "cell_type": "code",
   "execution_count": 3,
   "id": "95e35179",
   "metadata": {
    "execution": {
     "iopub.execute_input": "2023-08-09T16:33:57.665410Z",
     "iopub.status.busy": "2023-08-09T16:33:57.664260Z",
     "iopub.status.idle": "2023-08-09T16:33:57.672945Z",
     "shell.execute_reply": "2023-08-09T16:33:57.671850Z"
    },
    "papermill": {
     "duration": 0.015565,
     "end_time": "2023-08-09T16:33:57.675573",
     "exception": false,
     "start_time": "2023-08-09T16:33:57.660008",
     "status": "completed"
    },
    "tags": []
   },
   "outputs": [],
   "source": [
    "x = df[\"GDP ($ per capita)\"]\n",
    "y = df[\"Population\"]"
   ]
  },
  {
   "cell_type": "code",
   "execution_count": 4,
   "id": "d05f76bc",
   "metadata": {
    "execution": {
     "iopub.execute_input": "2023-08-09T16:33:57.683688Z",
     "iopub.status.busy": "2023-08-09T16:33:57.683273Z",
     "iopub.status.idle": "2023-08-09T16:33:57.688398Z",
     "shell.execute_reply": "2023-08-09T16:33:57.687318Z"
    },
    "papermill": {
     "duration": 0.011825,
     "end_time": "2023-08-09T16:33:57.690574",
     "exception": false,
     "start_time": "2023-08-09T16:33:57.678749",
     "status": "completed"
    },
    "tags": []
   },
   "outputs": [],
   "source": [
    "np_pop = np.array(x)/20"
   ]
  },
  {
   "cell_type": "code",
   "execution_count": 5,
   "id": "0cb5b812",
   "metadata": {
    "execution": {
     "iopub.execute_input": "2023-08-09T16:33:57.699214Z",
     "iopub.status.busy": "2023-08-09T16:33:57.698067Z",
     "iopub.status.idle": "2023-08-09T16:33:58.039319Z",
     "shell.execute_reply": "2023-08-09T16:33:58.038097Z"
    },
    "papermill": {
     "duration": 0.348405,
     "end_time": "2023-08-09T16:33:58.042101",
     "exception": false,
     "start_time": "2023-08-09T16:33:57.693696",
     "status": "completed"
    },
    "tags": []
   },
   "outputs": [
    {
     "data": {
      "image/png": "[encoded data removed]",
      "text/plain": [
       "<Figure size 640x480 with 1 Axes>"
      ]
     },
     "metadata": {},
     "output_type": "display_data"
    }
   ],
   "source": [
    "plt.scatter(x,y,s=np_pop,c=\"yellow\")\n",
    "plt.xlabel(\"GDP ($ per capita)\")\n",
    "plt.ylabel(\"Population\")\n",
    "plt.title(\"World Population vs GDP\")\n",
    "plt.text(1,1,\"Dishant Singh\")\n",
    "plt.show()"
   ]
  },
  {
   "cell_type": "code",
   "execution_count": 6,
   "id": "a2c2571a",
   "metadata": {
    "execution": {
     "iopub.execute_input": "2023-08-09T16:33:58.051382Z",
     "iopub.status.busy": "2023-08-09T16:33:58.050938Z",
     "iopub.status.idle": "2023-08-09T16:33:58.060925Z",
     "shell.execute_reply": "2023-08-09T16:33:58.059836Z"
    },
    "papermill": {
     "duration": 0.017487,
     "end_time": "2023-08-09T16:33:58.063289",
     "exception": false,
     "start_time": "2023-08-09T16:33:58.045802",
     "status": "completed"
    },
    "tags": []
   },
   "outputs": [
    {
     "data": {
      "text/plain": [
       "array([  35.,  225.,  300.,  400.,  950.,   95.,  430.,  550.,  560.,\n",
       "        175., 1400., 1450., 1500.,  170.,  835.,  845.,   95.,  785.,\n",
       "        305., 1455.,  245.,   55., 1800.,   65.,  120.,  305.,  450.,\n",
       "        380.,  800.,  930.,  380.,   55.,   90.,   30.,   95.,   90.,\n",
       "       1490.,   70., 1750.,   55.,   60.,  495.,  250.,  315.,   35.,\n",
       "         35.,   35.,  250.,  455.,   70.,  530.,  145.,  960.,  785.,\n",
       "       1555.,   65.,  270.,  300.,   25.,  165.,  200.,  240.,  135.,\n",
       "         35.,  615.,   35., 1100.,  290., 1370., 1380.,  415.,  875.,\n",
       "        275.,   85.,   30.,  125., 1380.,  110.,  875., 1000., 1000.,\n",
       "        250.,  400., 1050.,  205., 1000.,  105.,   40.,  200.,   80.,\n",
       "        130., 1440.,  695., 1545.,  145.,  160.,  350.,   75., 1480.,\n",
       "       1050.,  990., 1335.,  195., 1410., 1240.,  215.,  315.,   50.,\n",
       "         40.,   65.,  890.,  950.,   80.,   85.,  510.,  240.,  150.,\n",
       "         50.,  320., 1250.,  570., 2755.,  970.,  335.,   40.,   30.,\n",
       "        450.,  195.,   45.,  885.,   80.,  720.,   90.,  570.,  130.,\n",
       "        450.,  100.,   90., 1350.,   90.,  170.,  200.,   60.,  360.,\n",
       "        250.,   70., 1430.,  570.,  750., 1080.,  115.,   40.,   45.,\n",
       "        625., 1890.,  655.,  105.,  450.,  315.,  110.,  235.,  255.,\n",
       "        230.,  555.,  900.,  840., 1075.,  290.,  350.,  445.,   65.,\n",
       "        125.,  440.,  270.,  345.,  145.,  280., 1730.,   60.,  590.,\n",
       "         80.,  110.,  390.,   25., 1185.,  665.,  950.,   85.,   25.,\n",
       "        535., 1100.,  185.,   95.,  200.,  245., 1340., 1635.,  165.,\n",
       "       1170.,   50.,   30.,  370.,   75.,  110.,  475.,  345.,  335.,\n",
       "        290.,  480.,   55.,   70.,  270., 1160., 1385., 1890.,  640.,\n",
       "         85.,  145.,  240.,  125.,  860.,  185.,   40.,   nan,   40.,\n",
       "         40.,   95.])"
      ]
     },
     "execution_count": 6,
     "metadata": {},
     "output_type": "execute_result"
    }
   ],
   "source": [
    "\n",
    "np_pop"
   ]
  }
 ],
 "metadata": {
  "kernelspec": {
   "display_name": "Python 3",
   "language": "python",
   "name": "python3"
  },
  "language_info": {
   "codemirror_mode": {
    "name": "ipython",
    "version": 3
   },
   "file_extension": ".py",
   "mimetype": "text/x-python",
   "name": "python",
   "nbconvert_exporter": "python",
   "pygments_lexer": "ipython3",
   "version": "3.10.12"
  },
  "papermill": {
   "default_parameters": {},
   "duration": 12.373376,
   "end_time": "2023-08-09T16:33:58.988753",
   "environment_variables": {},
   "exception": null,
   "input_path": "__notebook__.ipynb",
   "output_path": "__notebook__.ipynb",
   "parameters": {},
   "start_time": "2023-08-09T16:33:46.615377",
   "version": "2.4.0"
  }
 },
 "nbformat": 4,
 "nbformat_minor": 5
}
