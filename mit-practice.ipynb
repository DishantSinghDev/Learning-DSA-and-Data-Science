{
 "cells": [
  {
   "cell_type": "code",
   "execution_count": 1,
   "id": "ea5cf3b1",
   "metadata": {
    "_cell_guid": "b1076dfc-b9ad-4769-8c92-a6c4dae69d19",
    "_uuid": "8f2839f25d086af736a60e9eeb907d3b93b6e0e5",
    "execution": {
     "iopub.execute_input": "2023-08-09T16:33:28.355873Z",
     "iopub.status.busy": "2023-08-09T16:33:28.354697Z",
     "iopub.status.idle": "2023-08-09T16:33:28.368166Z",
     "shell.execute_reply": "2023-08-09T16:33:28.367091Z"
    },
    "papermill": {
     "duration": 0.020917,
     "end_time": "2023-08-09T16:33:28.370781",
     "exception": false,
     "start_time": "2023-08-09T16:33:28.349864",
     "status": "completed"
    },
    "tags": []
   },
   "outputs": [],
   "source": [
    "class Node:\n",
    "    def __init__(self, data):\n",
    "       self.data = data\n",
    "       self.next = None\n",
    " \n",
    "class LinkedList:\n",
    "    def __init__(self):\n",
    "        self.head = None\n",
    "        self.last_node = None\n",
    " \n",
    "    def append(self, data):\n",
    "        if self.last_node is None:\n",
    "            self.head = Node(data)\n",
    "            self.last_node = self.head\n",
    "        else:\n",
    "            self.last_node.next = Node(data)\n",
    "            self.last_node = self.last_node.next\n",
    " \n",
    "    def length(self):\n",
    "        current = self.head\n",
    "        length = 0\n",
    "        while current:\n",
    "            length = length + 1\n",
    "            current = current.next\n",
    "        return length\n",
    "    def display(self):\n",
    "        self.display_helper(self.head)\n",
    " \n",
    "    def display_helper(self, current):\n",
    "        if current is None:\n",
    "            return\n",
    " \n",
    "        print(current.data, end = ' ')\n",
    "        self.display_helper(current.next)"
   ]
  },
  {
   "cell_type": "markdown",
   "id": "1ba8e32b",
   "metadata": {
    "papermill": {
     "duration": 0.002122,
     "end_time": "2023-08-09T16:33:28.375670",
     "exception": false,
     "start_time": "2023-08-09T16:33:28.373548",
     "status": "completed"
    },
    "tags": []
   },
   "source": [
    "reorder half the students from the given Linked List"
   ]
  },
  {
   "cell_type": "code",
   "execution_count": 2,
   "id": "05c8274e",
   "metadata": {
    "execution": {
     "iopub.execute_input": "2023-08-09T16:33:28.382253Z",
     "iopub.status.busy": "2023-08-09T16:33:28.381883Z",
     "iopub.status.idle": "2023-08-09T16:33:28.387212Z",
     "shell.execute_reply": "2023-08-09T16:33:28.386067Z"
    },
    "papermill": {
     "duration": 0.011497,
     "end_time": "2023-08-09T16:33:28.389421",
     "exception": false,
     "start_time": "2023-08-09T16:33:28.377924",
     "status": "completed"
    },
    "tags": []
   },
   "outputs": [],
   "source": [
    "def reorder_students(L):\n",
    "    prev = None\n",
    "    current = L.head\n",
    "    while(current is not None):\n",
    "        next = current.next\n",
    "        current.next = prev\n",
    "        prev = current\n",
    "        current = next\n",
    "    L.head = prev\n",
    "    return L"
   ]
  },
  {
   "cell_type": "code",
   "execution_count": 3,
   "id": "c739da36",
   "metadata": {
    "execution": {
     "iopub.execute_input": "2023-08-09T16:33:28.396076Z",
     "iopub.status.busy": "2023-08-09T16:33:28.395645Z",
     "iopub.status.idle": "2023-08-09T16:33:28.400788Z",
     "shell.execute_reply": "2023-08-09T16:33:28.399918Z"
    },
    "papermill": {
     "duration": 0.011204,
     "end_time": "2023-08-09T16:33:28.403149",
     "exception": false,
     "start_time": "2023-08-09T16:33:28.391945",
     "status": "completed"
    },
    "tags": []
   },
   "outputs": [],
   "source": [
    "a_llist = LinkedList()\n",
    "data_list = [\"d\",\"i\",\"s\",\"h\",\"a\",\"n\",\"t\"]\n",
    "for data in data_list:\n",
    "    a_llist.append(data)"
   ]
  },
  {
   "cell_type": "code",
   "execution_count": 4,
   "id": "079bb849",
   "metadata": {
    "execution": {
     "iopub.execute_input": "2023-08-09T16:33:28.410200Z",
     "iopub.status.busy": "2023-08-09T16:33:28.409563Z",
     "iopub.status.idle": "2023-08-09T16:33:28.415348Z",
     "shell.execute_reply": "2023-08-09T16:33:28.413938Z"
    },
    "papermill": {
     "duration": 0.01192,
     "end_time": "2023-08-09T16:33:28.417565",
     "exception": false,
     "start_time": "2023-08-09T16:33:28.405645",
     "status": "completed"
    },
    "tags": []
   },
   "outputs": [
    {
     "name": "stdout",
     "output_type": "stream",
     "text": [
      "t n a h s i d "
     ]
    }
   ],
   "source": [
    "data = reorder_students(a_llist)\n",
    "data.display()"
   ]
  },
  {
   "cell_type": "code",
   "execution_count": null,
   "id": "97f64241",
   "metadata": {
    "papermill": {
     "duration": 0.002124,
     "end_time": "2023-08-09T16:33:28.422289",
     "exception": false,
     "start_time": "2023-08-09T16:33:28.420165",
     "status": "completed"
    },
    "tags": []
   },
   "outputs": [],
   "source": []
  }
 ],
 "metadata": {
  "kernelspec": {
   "display_name": "Python 3",
   "language": "python",
   "name": "python3"
  },
  "language_info": {
   "codemirror_mode": {
    "name": "ipython",
    "version": 3
   },
   "file_extension": ".py",
   "mimetype": "text/x-python",
   "name": "python",
   "nbconvert_exporter": "python",
   "pygments_lexer": "ipython3",
   "version": "3.10.12"
  },
  "papermill": {
   "default_parameters": {},
   "duration": 11.387556,
   "end_time": "2023-08-09T16:33:29.346502",
   "environment_variables": {},
   "exception": null,
   "input_path": "__notebook__.ipynb",
   "output_path": "__notebook__.ipynb",
   "parameters": {},
   "start_time": "2023-08-09T16:33:17.958946",
   "version": "2.4.0"
  }
 },
 "nbformat": 4,
 "nbformat_minor": 5
}
